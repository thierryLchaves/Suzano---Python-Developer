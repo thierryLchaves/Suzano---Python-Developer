{
 "cells": [
  {
   "cell_type": "code",
   "execution_count": 3,
   "id": "e6a67e52",
   "metadata": {},
   "outputs": [
    {
     "ename": "ValueError",
     "evalue": "could not convert string to float: ''",
     "output_type": "error",
     "traceback": [
      "\u001b[1;31m---------------------------------------------------------------------------\u001b[0m",
      "\u001b[1;31mValueError\u001b[0m                                Traceback (most recent call last)",
      "Cell \u001b[1;32mIn[3], line 9\u001b[0m\n\u001b[0;32m      2\u001b[0m descontos \u001b[38;5;241m=\u001b[39m {\n\u001b[0;32m      3\u001b[0m     \u001b[38;5;124m\"\u001b[39m\u001b[38;5;124mDESCONTO10\u001b[39m\u001b[38;5;124m\"\u001b[39m: \u001b[38;5;241m0.10\u001b[39m,\n\u001b[0;32m      4\u001b[0m     \u001b[38;5;124m\"\u001b[39m\u001b[38;5;124mDESCONTO20\u001b[39m\u001b[38;5;124m\"\u001b[39m: \u001b[38;5;241m0.20\u001b[39m,\n\u001b[0;32m      5\u001b[0m     \u001b[38;5;124m\"\u001b[39m\u001b[38;5;124mSEM_DESCONTO\u001b[39m\u001b[38;5;124m\"\u001b[39m: \u001b[38;5;241m0.00\u001b[39m\n\u001b[0;32m      6\u001b[0m }\n\u001b[0;32m      8\u001b[0m \u001b[38;5;66;03m# Entrada do usuário\u001b[39;00m\n\u001b[1;32m----> 9\u001b[0m preco \u001b[38;5;241m=\u001b[39m \u001b[38;5;28;43mfloat\u001b[39;49m\u001b[43m(\u001b[49m\u001b[38;5;28;43minput\u001b[39;49m\u001b[43m(\u001b[49m\u001b[43m)\u001b[49m\u001b[38;5;241;43m.\u001b[39;49m\u001b[43mstrip\u001b[49m\u001b[43m(\u001b[49m\u001b[43m)\u001b[49m\u001b[43m)\u001b[49m\n\u001b[0;32m     10\u001b[0m cupom \u001b[38;5;241m=\u001b[39m \u001b[38;5;28minput\u001b[39m()\u001b[38;5;241m.\u001b[39mstrip()\n\u001b[0;32m     12\u001b[0m \u001b[38;5;28;01mfor\u001b[39;00m desconto \u001b[38;5;129;01min\u001b[39;00m descontos:\n",
      "\u001b[1;31mValueError\u001b[0m: could not convert string to float: ''"
     ]
    }
   ],
   "source": [
    "# Dicionário com os valores de desconto\n",
    "descontos = {\n",
    "    \"DESCONTO10\": 0.10,\n",
    "    \"DESCONTO20\": 0.20,\n",
    "    \"SEM_DESCONTO\": 0.00\n",
    "}\n",
    "\n",
    "# Entrada do usuário\n",
    "preco = float(input().strip())\n",
    "cupom = input().strip()\n",
    "\n",
    "for desconto in descontos:\n",
    "    if cupom == desconto:\n",
    "      preco -= preco * descontos.get(cupom)\n",
    "    elif cupom != desconto or cupom == \"SEM_DESCONTO\":\n",
    "        preco\n",
    "\n",
    "print(F\"{preco:.2f}\")\n",
    "    \n",
    "       "
   ]
  },
  {
   "cell_type": "code",
   "execution_count": null,
   "id": "532b2697",
   "metadata": {},
   "outputs": [],
   "source": [
    "# Entrada do usuário\n",
    "email = input().strip()\n",
    "dominios = [\n",
    "'@gmail.com', '@outlook.com'\n",
    "]\n",
    "\n",
    "\n",
    "def verif_posicao():\n",
    "    contem = 0\n",
    "    if email[0] == '@':\n",
    "      contem += 1\n",
    "    elif email[-1] == '@':\n",
    "      contem += 1\n",
    "    return contem\n",
    "\n",
    "def verif_dominio():\n",
    "    contem = 0\n",
    "    if dominios[0] in email:\n",
    "        contem += 1\n",
    "    elif dominios[1] in email:\n",
    "        contem += 1\n",
    "\n",
    "    return contem\n",
    "\n",
    "def verif_espaco():\n",
    "    contem = 0\n",
    "    if ' ' in email:\n",
    "      contem += 1\n",
    "\n",
    "    return contem\n",
    "\n",
    "\n",
    "\n",
    "if verif_posicao() == 0 and verif_dominio() > 0 and verif_espaco() == 0:\n",
    "    print(\"E-mail válido\")\n",
    "else:\n",
    "  print(\"E-mail inválido\")\n"
   ]
  },
  {
   "cell_type": "code",
   "execution_count": null,
   "id": "abb2894e",
   "metadata": {},
   "outputs": [
    {
     "name": "stdout",
     "output_type": "stream",
     "text": [
      "[0, 2, 4, 6, 64]\n"
     ]
    }
   ],
   "source": [
    "# Lista para armazenar os produtos e preços\n",
    "carrinho = []\n",
    "total = 0.0\n",
    "\n",
    "# Entrada do número de itens\n",
    "n = int(input().strip())\n",
    "\n",
    "# Loop para adicionar itens ao carrinho\n",
    "for _ in range(n):\n",
    "    linha = input().strip()\n",
    "    \n",
    "    # Encontra a última ocorrência de espaço para separar nome e preço\n",
    "    posicao_espaco = linha.rfind(\" \")\n",
    "    \n",
    "    # Separa o nome do produto e o preço\n",
    "    item = linha[:posicao_espaco]\n",
    "    preco = float(linha[posicao_espaco + 1:])\n",
    "    \n",
    "    # Adiciona ao carrinho\n",
    "    carrinho.append((item, preco))\n",
    "    total += preco"
   ]
  }
 ],
 "metadata": {
  "kernelspec": {
   "display_name": "Python 3",
   "language": "python",
   "name": "python3"
  },
  "language_info": {
   "codemirror_mode": {
    "name": "ipython",
    "version": 3
   },
   "file_extension": ".py",
   "mimetype": "text/x-python",
   "name": "python",
   "nbconvert_exporter": "python",
   "pygments_lexer": "ipython3",
   "version": "3.12.0"
  }
 },
 "nbformat": 4,
 "nbformat_minor": 5
}
